{
 "cells": [
  {
   "cell_type": "code",
   "execution_count": null,
   "metadata": {},
   "outputs": [],
   "source": [
    "#实践训练"
   ]
  },
  {
   "cell_type": "code",
   "execution_count": 1,
   "metadata": {},
   "outputs": [],
   "source": [
    "#实践1\n",
    "#导入第三方库\n",
    "import pygal\n",
    "\n",
    "my_config = pygal.Config()\n",
    "my_config.show_legend = True\n",
    " \n",
    "#设置字体大小\n",
    "my_config.style.title_font_size = 26\n",
    "my_config.style.label_font_size = 16\n",
    "\n",
    "#设置雷达图的填充及数据范围\n",
    "radar_chart = pygal.Radar(my_config,fill = False,range=(0,15))\n",
    "\n",
    "#添加雷达图标题\n",
    "radar_chart.title = '2020年第三季度不同类型商品利润额分析'\n",
    "\n",
    "#添加雷达图顶点\n",
    "radar_chart.x_labels = ['标签','器具','收纳具','书架','手机','配件'] \n",
    "\n",
    "#绘制雷达图区域\n",
    "radar_chart.add('7月份', [13.2,10.1,11.5,9.8,6.9,8.2])\n",
    "radar_chart.add('8月份', [11.0,9.1,9.5,12.5,10.1,9.6])\n",
    "radar_chart.add('9月份', [9.6,8.6,10.0,8.5,9.5,12.6])\n",
    "\n",
    "#保存图像\n",
    "radar_chart.render_to_file('不同类型商品销售额的雷达图.svg')"
   ]
  },
  {
   "cell_type": "code",
   "execution_count": 2,
   "metadata": {},
   "outputs": [
    {
     "data": {
      "text/plain": [
       "'D:\\\\Python数据可视化分析与案例实战\\\\PPT\\\\练习题参考答案\\\\2020年上半年各地区利润额平行坐标系.html'"
      ]
     },
     "execution_count": 2,
     "metadata": {},
     "output_type": "execute_result"
    }
   ],
   "source": [
    "#实践2\n",
    "import pyecharts.options as opts\n",
    "from pyecharts.charts import Parallel\n",
    "\n",
    "#设置坐标系维度\n",
    "parallel_axis = [\n",
    "    {\"dim\": 0,\"name\": \"销售大区\",\"type\": \"category\"},\n",
    "    {\"dim\": 1,\"name\": \"1月\"},\n",
    "    {\"dim\": 2,\"name\": \"2月\"},\n",
    "    {\"dim\": 3,\"name\": \"3月\"},\n",
    "    {\"dim\": 4,\"name\": \"4月\"},\n",
    "    {\"dim\": 5,\"name\": \"5月\"},\n",
    "    {\"dim\": 6,\"name\": \"6月\"},  \n",
    "    {\"dim\": 8,\"name\": \"业绩评估\",\"type\": \"category\",\"data\": [\"差\", \"一般\",\"好\",\"优秀\"],\n",
    "    } ]\n",
    "\n",
    "#数据设置\n",
    "data = [[\"西北\",1.08,1.16,0.3,2.82,2.03,2.62,\"差\"],\n",
    "        [\"华北\",8.18,9.26,12.3,6.82,9.03,4.62,\"一般\"],\n",
    "        [\"西南\",6.18,7.26,10.3,4.82,8.03,3.32,\"一般\"],\n",
    "        [\"华南\",9.18,9.26,13.3,13.82,14.63,11.62,\"好\"],\n",
    "        [\"东北\",8.18,8.26,10.3,11.82,13.03,14.52,\"好\"],\n",
    "        [\"华东\",10.98,19.66,20.83,15.62,17.63,16.82,\"优秀\"]\n",
    "       ]\n",
    "\n",
    "#绘制平行坐标系\n",
    "def Parallel_splitline() -> Parallel:\n",
    "    c = (\n",
    "        Parallel()\n",
    "        .add_schema(schema=parallel_axis)\n",
    "        .add(\n",
    "             series_name=\"\",\n",
    "             data=data,\n",
    "             linestyle_opts=opts.LineStyleOpts(width=4, opacity=0.5),\n",
    "            )\n",
    "        )\n",
    "    return c\n",
    "\n",
    "Parallel_splitline().render('2020年上半年各地区利润额平行坐标系.html')"
   ]
  },
  {
   "cell_type": "code",
   "execution_count": null,
   "metadata": {},
   "outputs": [],
   "source": []
  }
 ],
 "metadata": {
  "kernelspec": {
   "display_name": "Python 3",
   "language": "python",
   "name": "python3"
  },
  "language_info": {
   "codemirror_mode": {
    "name": "ipython",
    "version": 3
   },
   "file_extension": ".py",
   "mimetype": "text/x-python",
   "name": "python",
   "nbconvert_exporter": "python",
   "pygments_lexer": "ipython3",
   "version": "3.9.0"
  }
 },
 "nbformat": 4,
 "nbformat_minor": 4
}
