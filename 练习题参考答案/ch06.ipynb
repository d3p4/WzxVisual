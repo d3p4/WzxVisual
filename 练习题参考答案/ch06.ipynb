{
 "cells": [
  {
   "cell_type": "code",
   "execution_count": null,
   "metadata": {},
   "outputs": [],
   "source": [
    "#实践训练"
   ]
  },
  {
   "cell_type": "code",
   "execution_count": 1,
   "metadata": {},
   "outputs": [],
   "source": [
    "#实践1\n",
    "from pyecharts import options as opts\n",
    "from pyecharts.charts import Geo\n",
    "from pyecharts.globals import ChartType\n",
    "\n",
    "c = (\n",
    "    Geo()\n",
    "    .add_schema(maptype=\"湖南\")\n",
    "    .add(\n",
    "        \"\",\n",
    "        [(\"长沙市\",184),(\"株洲市\",192),(\"湘潭市\",171),(\"衡阳市\",131),(\"邵阳市\",149),(\"岳阳市\",121),(\"常德市\",71),\n",
    "         (\"张家界市\",83),(\"益阳市\",88),(\"郴州市\",156),(\"永州市\",99),(\"怀化市\",86),(\"娄底市\",65)],\n",
    "        type_=ChartType.HEATMAP,\n",
    "    )\n",
    "    .set_series_opts(label_opts=opts.LabelOpts(is_show=True))\n",
    "    .set_global_opts(\n",
    "        visualmap_opts=opts.VisualMapOpts(), title_opts=opts.TitleOpts(title=\"2020年湖南省各地级市商品销售额的热力地图\")\n",
    "    )\n",
    "    .render(\"热力图湖南.html\")\n",
    ")"
   ]
  },
  {
   "cell_type": "code",
   "execution_count": 2,
   "metadata": {},
   "outputs": [],
   "source": [
    "#实践2\n",
    "from pyecharts import options as opts\n",
    "from pyecharts.charts import Map\n",
    "\n",
    "c = (\n",
    "    Map()\n",
    "    .add(\"\", \n",
    "        [(\"长沙市\",18.4),(\"株洲市\",19.2),(\"湘潭市\",17.1),(\"衡阳市\",13.1),(\"邵阳市\",14.9),(\"岳阳市\",12.1),(\"常德市\",7.1),\n",
    "         (\"张家界市\",8.3),(\"益阳市\",8.8),(\"郴州市\",15.6),(\"永州市\",9.9),(\"怀化市\",8.6),(\"娄底市\",6.5)],\n",
    "         \"湖南\")\n",
    "    .set_global_opts(\n",
    "        title_opts=opts.TitleOpts(title=\"2020年湖南省各地级市商品利润额的着色地图\"), visualmap_opts=opts.VisualMapOpts(max_=20, is_piecewise=True)\n",
    "    )\n",
    "    .render(\"着色地图湖南.html\")\n",
    ")"
   ]
  },
  {
   "cell_type": "code",
   "execution_count": 3,
   "metadata": {},
   "outputs": [],
   "source": [
    "#实践3\n",
    "from pyecharts import options as opts\n",
    "from pyecharts.charts import Map3D\n",
    "from pyecharts.globals import ChartType\n",
    "\n",
    "example_data = [\n",
    "    [[110.448719,29.299332, 1000], [112.693189,28.213093, 1000]],\n",
    "    [[111.718132,29.218665], [112.693189,28.213093]],\n",
    "    [[113.02434,29.557034], [112.693189,28.213093]],\n",
    "    [[112.601203,27.132036], [112.693189,28.213093]],\n",
    "    [[113.09793,25.807389], [112.693189,28.213093]], \n",
    "    [[111.626146,26.60403], [112.693189,28.213093]], \n",
    "    [[109.970389,27.591986], [112.693189,28.213093]], \n",
    "]\n",
    "c = (\n",
    "    Map3D()\n",
    "    .add_schema(\n",
    "        maptype=\"湖南\",\n",
    "        itemstyle_opts=opts.ItemStyleOpts(\n",
    "            color=\"rgb(5,101,123)\",\n",
    "            opacity=1,\n",
    "            border_width=0.8,\n",
    "            border_color=\"rgb(62,215,213)\",\n",
    "        ),\n",
    "        light_opts=opts.Map3DLightOpts(\n",
    "            main_color=\"#fff\",\n",
    "            main_intensity=1.2,\n",
    "            is_main_shadow=False,\n",
    "            main_alpha=55,\n",
    "            main_beta=10,\n",
    "            ambient_intensity=0.3,\n",
    "        ),\n",
    "        view_control_opts=opts.Map3DViewControlOpts(center=[-10, 0, 10]),\n",
    "        post_effect_opts=opts.Map3DPostEffectOpts(is_enable=True),\n",
    "    )\n",
    "    .add(\n",
    "        series_name=\"\",\n",
    "        data_pair=example_data,\n",
    "        type_=ChartType.LINES3D,\n",
    "        effect=opts.Lines3DEffectOpts(\n",
    "            is_show=True,\n",
    "            period=4,\n",
    "            trail_width=3,\n",
    "            trail_length=0.6,\n",
    "            trail_color=\"#f00\",\n",
    "            trail_opacity=1,\n",
    "        ),\n",
    "        linestyle_opts=opts.LineStyleOpts(is_show=True, color=\"#fff\", opacity=0),\n",
    "    )\n",
    "    .set_global_opts(title_opts=opts.TitleOpts(title=\"湖南省各地级市地理位置的三维地图\"))\n",
    "    .render(\"湖南省各地级市三维地图.html\")\n",
    ")"
   ]
  },
  {
   "cell_type": "code",
   "execution_count": null,
   "metadata": {},
   "outputs": [],
   "source": []
  }
 ],
 "metadata": {
  "kernelspec": {
   "display_name": "Python 3",
   "language": "python",
   "name": "python3"
  },
  "language_info": {
   "codemirror_mode": {
    "name": "ipython",
    "version": 3
   },
   "file_extension": ".py",
   "mimetype": "text/x-python",
   "name": "python",
   "nbconvert_exporter": "python",
   "pygments_lexer": "ipython3",
   "version": "3.9.0"
  }
 },
 "nbformat": 4,
 "nbformat_minor": 4
}
