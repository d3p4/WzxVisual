{
 "cells": [
  {
   "cell_type": "code",
   "execution_count": null,
   "metadata": {},
   "outputs": [],
   "source": [
    "#练习1\n",
    "#在命令提示符（CMD）中输入下面的代码\n",
    "pip install pygal"
   ]
  },
  {
   "cell_type": "code",
   "execution_count": 1,
   "metadata": {},
   "outputs": [],
   "source": [
    "#练习2\n",
    "#导入第三方库\n",
    "import pandas as pd\n",
    "import matplotlib.pyplot as plt\n",
    "import pygal\n",
    "plt.rcParams['font.sans-serif'] = ['SimHei']   #中文字体设置\n",
    "\n",
    "#读取数据\n",
    "df = pd.read_csv('D:/Python商业数据可视化实战/ch08/churn.csv', ',')\n",
    "\n",
    "#绘制图形\n",
    "bar_chart = pygal.Bar()\n",
    "bar_chart.title = '2020年不同类型客户流失量'\n",
    "bar_chart.x_labels = df['month'] \n",
    "#bar_chart.x_labels = map(str, range(1, 13))\n",
    "\n",
    "bar_chart.add('质量差', df['quality'])\n",
    "bar_chart.add('服务差', df['service'])\n",
    "bar_chart.add('价格高', df['price'])\n",
    "\n",
    "#保存图像\n",
    "bar_chart.render_to_file('bar_chart5.svg')"
   ]
  },
  {
   "cell_type": "code",
   "execution_count": 6,
   "metadata": {},
   "outputs": [],
   "source": [
    "#练习3\n",
    "#导入相关库\n",
    "import pygal\n",
    "\n",
    "#绘制图形\n",
    "pie_chart = pygal.Pie()\n",
    "pie_chart.title = '2020年不同类型客户流失量'\n",
    "pie_chart.add('Jan', 38)\n",
    "pie_chart.add('Feb', 41)\n",
    "pie_chart.add('Mar', 45)\n",
    "pie_chart.add('Apr', 35)\n",
    "pie_chart.add('May', 35)\n",
    "pie_chart.add('June', 46)\n",
    "pie_chart.add('July', 41)\n",
    "pie_chart.add('Aug', 40)\n",
    "pie_chart.add('Sept', 32)\n",
    "pie_chart.add('Oct', 25)\n",
    "pie_chart.add('Nov', 32)\n",
    "pie_chart.add('Dec', 34)\n",
    "\n",
    "#保存图像\n",
    "pie_chart.render_to_file('pie_chart1.svg')"
   ]
  },
  {
   "cell_type": "code",
   "execution_count": null,
   "metadata": {},
   "outputs": [],
   "source": []
  }
 ],
 "metadata": {
  "kernelspec": {
   "display_name": "Python 3",
   "language": "python",
   "name": "python3"
  },
  "language_info": {
   "codemirror_mode": {
    "name": "ipython",
    "version": 3
   },
   "file_extension": ".py",
   "mimetype": "text/x-python",
   "name": "python",
   "nbconvert_exporter": "python",
   "pygments_lexer": "ipython3",
   "version": "3.9.0b4"
  }
 },
 "nbformat": 4,
 "nbformat_minor": 4
}
