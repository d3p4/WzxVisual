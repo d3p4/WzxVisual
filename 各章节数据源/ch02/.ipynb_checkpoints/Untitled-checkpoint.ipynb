{
 "cells": [
  {
   "cell_type": "code",
   "execution_count": null,
   "metadata": {},
   "outputs": [],
   "source": [
    "from pyecharts.charts import Bar\n",
    "from pyecharts import options as opts\n",
    "bar = (\n",
    "    Bar()\n",
    "    .add_xaxis([\"衬衫\", \"毛衣\", \"领带\", \"裤子\", \"风衣\", \"高跟鞋\", \"袜子\"])\n",
    "    .add_yaxis(\"门店A\", [114, 55, 27, 101, 125, 27, 105])\n",
    "    .add_yaxis(\"门店B\", [57, 134, 137, 129, 145, 60, 49])\n",
    "    .set_global_opts(title_opts=opts.TitleOpts(title=\"某商家9月份销售数量统计\",title_textstyle_opts=opts.TextStyleOpts(font_size=20)),\n",
    "                     xaxis_opts=opts.AxisOpts(axislabel_opts=opts.LabelOpts(font_size = 16)),\n",
    "                     yaxis_opts=opts.AxisOpts(axislabel_opts=opts.LabelOpts(font_size = 16)),\n",
    "                     toolbox_opts=opts.ToolboxOpts(),\n",
    "                     legend_opts=opts.LegendOpts(is_show=True,item_width=40,item_height=20,textstyle_opts=opts.TextStyleOpts(font_size=16)))\n",
    "    .set_series_opts(label_opts=opts.LabelOpts(font_size = 16))\n",
    ")\n",
    "\n",
    "bar.render_notebook()"
   ]
  },
  {
   "cell_type": "code",
   "execution_count": null,
   "metadata": {},
   "outputs": [],
   "source": []
  }
 ],
 "metadata": {
  "kernelspec": {
   "display_name": "Python 3",
   "language": "python",
   "name": "python3"
  }
 },
 "nbformat": 4,
 "nbformat_minor": 4
}
